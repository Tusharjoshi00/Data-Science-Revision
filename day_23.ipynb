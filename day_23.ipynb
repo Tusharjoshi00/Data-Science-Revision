{
 "cells": [
  {
   "cell_type": "code",
   "execution_count": null,
   "id": "0f865f95",
   "metadata": {},
   "outputs": [],
   "source": [
    "#feature Engineering\n",
    "# FE is the process of using the domain knowledge to extract features from raw data\n",
    "# these features  can be used to  improve the performance of ml algorithm\n"
   ]
  },
  {
   "cell_type": "code",
   "execution_count": null,
   "id": "e8f2c00c",
   "metadata": {},
   "outputs": [],
   "source": [
    "\n",
    "# feature engineering:\n",
    "  # 1. feature transformation = suppose apne pss ek unput column apn usko ese transform karte ho ki \n",
    "  # wo zyada useful ho jaye or acha output result de\n",
    "  # 2. feature construction = kabhi kabhi hume naye features create karne padte hain existing features se\n",
    "  # 3. feature selection = isme hum un features ko select karte hain jo model ke liye sabse zyada important hote hain\n",
    "  # 4. feature extraction = isme hum raw data se important features ko extract karte hain programatically \n",
    "   # not manually\n",
    " "
   ]
  },
  {
   "cell_type": "code",
   "execution_count": null,
   "id": "ea103cf7",
   "metadata": {},
   "outputs": [],
   "source": [
    "# FE process\n",
    "# 1. missing value imputation \n",
    "# 1.2.handling categorical value\n",
    "#1.3. outlier detection\n",
    "#1.4. feature scaling\n",
    "\n",
    "#2. feature construction \n",
    "\n",
    "#3. feature selection\n",
    "\n",
    "#4. feature extraction\n"
   ]
  }
 ],
 "metadata": {
  "language_info": {
   "name": "python"
  }
 },
 "nbformat": 4,
 "nbformat_minor": 5
}
