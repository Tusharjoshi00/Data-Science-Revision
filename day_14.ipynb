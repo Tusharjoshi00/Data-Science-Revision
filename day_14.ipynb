{
 "cells": [
  {
   "cell_type": "code",
   "execution_count": null,
   "id": "9b97abd0",
   "metadata": {},
   "outputs": [],
   "source": [
    "#1.  business problem to ml problem\n",
    "\n",
    "# what is churn rate ? iska mtlb hai 100 customer hai or next month 98 reh gye \n",
    "# that'mean churn rate is 2%\n",
    "\n"
   ]
  },
  {
   "cell_type": "code",
   "execution_count": null,
   "id": "6f6b48fe",
   "metadata": {},
   "outputs": [],
   "source": [
    "#2. types of problem \n"
   ]
  },
  {
   "cell_type": "code",
   "execution_count": null,
   "id": "d82bdb68",
   "metadata": {},
   "outputs": [],
   "source": [
    "# 3. current solution"
   ]
  },
  {
   "cell_type": "code",
   "execution_count": 2,
   "id": "04d3aa71",
   "metadata": {},
   "outputs": [],
   "source": [
    "# 4.  getting data\n",
    "#1.watch time\n",
    "# 2. search but  did not find \n",
    "# 3. content  left in the middle \n",
    "#4. clicked  on recommendation(order of  recommendation)\n"
   ]
  },
  {
   "cell_type": "code",
   "execution_count": null,
   "id": "0c07ba6d",
   "metadata": {},
   "outputs": [],
   "source": [
    "# 5.  metrices to  measure"
   ]
  },
  {
   "cell_type": "code",
   "execution_count": null,
   "id": "574db5b8",
   "metadata": {},
   "outputs": [],
   "source": [
    "#6.  online vs batch"
   ]
  },
  {
   "cell_type": "code",
   "execution_count": null,
   "id": "46486995",
   "metadata": {},
   "outputs": [],
   "source": [
    "# 7. check assumption"
   ]
  }
 ],
 "metadata": {
  "kernelspec": {
   "display_name": "Python 3",
   "language": "python",
   "name": "python3"
  },
  "language_info": {
   "codemirror_mode": {
    "name": "ipython",
    "version": 3
   },
   "file_extension": ".py",
   "mimetype": "text/x-python",
   "name": "python",
   "nbconvert_exporter": "python",
   "pygments_lexer": "ipython3",
   "version": "3.11.9"
  }
 },
 "nbformat": 4,
 "nbformat_minor": 5
}
