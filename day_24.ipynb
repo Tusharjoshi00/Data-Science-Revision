{
 "cells": [
  {
   "cell_type": "code",
   "execution_count": null,
   "id": "64a4cd71",
   "metadata": {},
   "outputs": [],
   "source": [
    "# feature scaling is the technique to standardize the range of independent features \n",
    "#  present in the data  in a  fixed range\n"
   ]
  },
  {
   "cell_type": "code",
   "execution_count": null,
   "id": "77dbf62e",
   "metadata": {},
   "outputs": [],
   "source": [
    "# its types\n",
    "#1. standardization\n",
    "#2. normalization   / z-score normalization"
   ]
  },
  {
   "cell_type": "code",
   "execution_count": null,
   "id": "4434d198",
   "metadata": {},
   "outputs": [],
   "source": [
    "# isme apn kya krte h suppose we have column age uske transform krke ek formula use krke likhenge\n",
    "# formula = (age - mean) / std\n",
    "# or formula = (Xi - x.mean)/ sigma\n"
   ]
  }
 ],
 "metadata": {
  "language_info": {
   "name": "python"
  }
 },
 "nbformat": 4,
 "nbformat_minor": 5
}
