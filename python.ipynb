{
 "cells": [
  {
   "cell_type": "code",
   "execution_count": 9,
   "id": "e0ff7f3e",
   "metadata": {},
   "outputs": [
    {
     "name": "stdout",
     "output_type": "stream",
     "text": [
      "True\n",
      "True\n",
      "The total of the three digits is: 12\n"
     ]
    }
   ],
   "source": [
    "# OPERATORS\n",
    "# ARITHMATHIC_OPERATORS \n",
    "# print(5-2)\n",
    "# print(5+2)\n",
    "# print(5*2)\n",
    "# print(5/2)\n",
    "# print(5//2)\n",
    "# # RELATIONAL OPERATORS( we use this to find out kon chota h kon bda h etc   )\n",
    "# print(5<2)\n",
    "# print(5>2)  \n",
    "# print(5<=2)\n",
    "# print(5>=2)\n",
    "# print(5==2)\n",
    "# print(5!=2)\n",
    "#LOGICAL OPERATORS\n",
    "# print(5<2 and 5>2) # agr dono hi true h to hi true hoga\n",
    "# print(5<2 or 5>2)  # agr dono me se koi bhi true h to true hoga\n",
    "# print(not(5<2))    # not ka matlab h ulta kr do\n",
    "# # BITWISE OPERATORS\n",
    "# print(5&2)  # bitwise and   \n",
    "# print(5|2)  # bitwise or\n",
    "# print(5^2)  # bitwise xor   )\n",
    "# print(~5)   # bitwise not\n",
    "# print(5<<2) # left shift\n",
    "# print(5>>2) # right shift\n",
    "\n",
    "# # ASSIGNMENT OPERATORS\n",
    "# a = 5\n",
    "# a = a + 2\n",
    "# print(a)  # 7\n",
    "# a += 2  # a = a + 2\n",
    "# print(a)  # 9\n",
    "\n",
    "\n",
    "# membership operartors\n",
    "#in/not in\n",
    "print('d'in 'delhi')\n",
    "print(1 in [1, 2, 3])\n",
    "\n",
    "##### we have to solve a question in which we have to add the total 3 digit of a number \n",
    "number = int(input(\"enter the 3 digit number :\"))\n",
    "\n",
    "#suppose number is 345 then we have to add 3+4+5 = 12\n",
    "# 345%10 = 5\n",
    "a=number % 10  # last digit\n",
    "# 345//10 = 34\n",
    "number = number // 10  # remove last digit\n",
    "# 34%10 = 4\n",
    "b = number % 10  # second last digit\n",
    "# 34//10 = 3        \n",
    "number = number // 10  # remove last digit\n",
    "# 3%10 = 3\n",
    "c = number % 10  # first digit\n",
    "# now we have a,b,c\n",
    "total = a + b + c  # add all three digits\n",
    "print(\"The total of the three digits is:\", total)  # print the result"
   ]
  },
  {
   "cell_type": "code",
   "execution_count": 12,
   "id": "c2e5ccbc",
   "metadata": {},
   "outputs": [
    {
     "name": "stdout",
     "output_type": "stream",
     "text": [
      "password is incorrect, please try again\n"
     ]
    }
   ],
   "source": [
    "## if else statement\n",
    "email = input(\"enter your email\")\n",
    "password = input(\"enter your password\")\n",
    "if email == \"email@gmail.com\" and password == \"1234\":\n",
    "    print(\"login successful\")\n",
    "elif  email == \"email@gmail.com\" and password != \"1234\":\n",
    "    print(\"password is incorrect, please try again\")\n",
    "else:\n",
    "    print(\"login failed, please check your email and password\") \n"
   ]
  },
  {
   "cell_type": "code",
   "execution_count": null,
   "id": "103d6269",
   "metadata": {},
   "outputs": [],
   "source": []
  }
 ],
 "metadata": {
  "kernelspec": {
   "display_name": "Python 3",
   "language": "python",
   "name": "python3"
  },
  "language_info": {
   "codemirror_mode": {
    "name": "ipython",
    "version": 3
   },
   "file_extension": ".py",
   "mimetype": "text/x-python",
   "name": "python",
   "nbconvert_exporter": "python",
   "pygments_lexer": "ipython3",
   "version": "3.11.9"
  }
 },
 "nbformat": 4,
 "nbformat_minor": 5
}
