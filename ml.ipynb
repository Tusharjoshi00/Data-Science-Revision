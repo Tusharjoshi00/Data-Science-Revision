{
 "cells": [
  {
   "cell_type": "code",
   "execution_count": null,
   "id": "3617909c",
   "metadata": {},
   "outputs": [],
   "source": [
    "#machine learning"
   ]
  },
  {
   "cell_type": "code",
   "execution_count": null,
   "id": "86799039",
   "metadata": {},
   "outputs": [],
   "source": [
    "# Types of machine learning\n",
    "1. super vised ->  1. classification -> isme o/p categorical ya character me aata hai\n",
    "                    2. rergression  -> jB OUTPUT APNA  numerical aaye \n",
    "\n",
    "\n",
    "2. unserpervised ---> isme sirf input hota h supervised me i/p and o/p both hote hai\n",
    "                    1. clustering\n",
    "                      2. dimensanality reduction \n",
    "                      3. anamoly detection \n",
    "                       4.association \n",
    "\n",
    "3. semi-supervised "
   ]
  }
 ],
 "metadata": {
  "language_info": {
   "name": "python"
  }
 },
 "nbformat": 4,
 "nbformat_minor": 5
}
