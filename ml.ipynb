{
 "cells": [
  {
   "cell_type": "code",
   "execution_count": null,
   "id": "3617909c",
   "metadata": {},
   "outputs": [],
   "source": [
    "#machine learning"
   ]
  },
  {
   "cell_type": "code",
   "execution_count": null,
   "id": "86799039",
   "metadata": {},
   "outputs": [],
   "source": [
    "# Types of machine learning\n",
    "1. super vised ->  1. classification -> isme o/p categorical ya character me aata hai\n",
    "                    2. rergression  -> jB OUTPUT APNA  numerical aaye \n",
    "\n",
    "\n",
    "2. unserpervised ---> isme sirf input hota h supervised me i/p and o/p both hote hai\n",
    "                    1. clustering -> we make groups\n",
    "                      2. dimensanality reduction -> jab inputs bahut jayda ho jaye tb dikkat aa sakti h toh yeh kya krta hai befaltu coulmns ko hata deta hai\n",
    "                      3. anamoly detection --> khuch dikkat ho jati h like pan card nahi chl rha blah blah usme kya dikkt h un outliers ko maintain krna \n",
    "                       4.association  -> isme apn data ko dekhte hai fir khuch usme se use krte h . eg milk bread sath rakhna \n",
    " \n",
    "\n",
    "3. semi-supervised  - partiaallly supervised / partially unserpervised\n",
    " example google photos p wo photos ko search maar leta hai or grp bana leta hai h fir puchta hai\n",
    "yeh kon hai once we sad he is papa wo unka ek personal photo bana deta hai khud se \n",
    "\n",
    "\n",
    "4. reinforcement learning - ek model ko train krna by giving reward and panality\n",
    "jab wo sahi kaam krta hai toh reward or galti krta h toh penality "
   ]
  }
 ],
 "metadata": {
  "language_info": {
   "name": "python"
  }
 },
 "nbformat": 4,
 "nbformat_minor": 5
}
