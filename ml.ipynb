{
 "cells": [
  {
   "cell_type": "code",
   "execution_count": null,
   "id": "3617909c",
   "metadata": {},
   "outputs": [],
   "source": [
    "#machine learning"
   ]
  },
  {
   "cell_type": "code",
   "execution_count": null,
   "id": "86799039",
   "metadata": {},
   "outputs": [],
   "source": [
    "# Types of machine learning\n",
    "1. super vised ->  1. classification -> isme o/p categorical ya character me aata hai\n",
    "                    2. rergression  -> jB OUTPUT APNA  numerical aaye \n",
    "\n",
    "\n",
    "2. unserpervised ---> isme sirf input hota h supervised me i/p and o/p both hote hai\n",
    "                    1. clustering -> we make groups\n",
    "                      2. dimensanality reduction -> jab inputs bahut jayda ho jaye tb dikkat aa sakti h toh yeh kya krta hai befaltu coulmns ko hata deta hai\n",
    "                      3. anamoly detection --> khuch dikkat ho jati h like pan card nahi chl rha blah blah usme kya dikkt h un outliers ko maintain krna \n",
    "                       4.association  -> isme apn data ko dekhte hai fir khuch usme se use krte h . eg milk bread sath rakhna \n",
    " \n",
    "\n",
    "3. semi-supervised  - partiaallly supervised / partially unserpervised\n",
    " example google photos p wo photos ko search maar leta hai or grp bana leta hai h fir puchta hai\n",
    "yeh kon hai once we sad he is papa wo unka ek personal photo bana deta hai khud se \n",
    "\n",
    "\n",
    "4. reinforcement learning - ek model ko train krna by giving reward and panality\n",
    "jab wo sahi kaam krta hai toh reward or galti krta h toh penality "
   ]
  },
  {
   "cell_type": "code",
   "execution_count": null,
   "id": "0b3ddd2a",
   "metadata": {},
   "outputs": [],
   "source": [
    "#instance vs model-based learning\n",
    "=> jo model ratne lag jata hai or fir action leta hai use bolte h instace learning\n",
    "suppose ek point choose kia uske aas pass 3 or point the do red ek blue toh wo point bhi red hoga\n",
    "example : KNN \n",
    "it takes more storage\n",
    "\n",
    "=> or jo fundamental pattern dhundhke action lene ki kosis krta hai wo hai model based learning\n",
    "yeh ek curve draw kr dega jo curve me aayega wo red jo nhi aaya wo blue\n",
    "example : linear regression , logistic regr ,decisoion tree\n",
    "takes less storage \n"
   ]
  },
  {
   "cell_type": "code",
   "execution_count": null,
   "id": "1bed2c57",
   "metadata": {},
   "outputs": [],
   "source": [
    "#challenges in ml\n",
    "->  1.data gathering is quite difficult / data collection\n",
    "-> to collect data : 1.fetch data from API  2. web scrapping\n",
    "-> 2. insufficient data\n",
    "-> 3. non representing data\n",
    "      -> sampling noise = apn ne only india m pucha kon jeetega\n",
    "      -> sampling bais = humne world m pucha pr jayda tar indians the\n",
    "-> 4. poor quality publish_display_data\n",
    "-> 5. irreleavted feature or data\n",
    "-> 6. overfitting = data ratt lia bs \n",
    "-> 7.underfitting =\n",
    "-> 8.s/w integeration = like bahut sare s/w abhi bhi accept nahi Krte\n",
    "-> 9. offline  learning / deployment\n",
    "-> 10. cost involved = "
   ]
  },
  {
   "cell_type": "code",
   "execution_count": null,
   "id": "992cbd45",
   "metadata": {},
   "outputs": [],
   "source": [
    "#application of ml\n",
    "1. Retail - amazon / dmart\n",
    "2.banking and finance - customer profile k upper scanning hota hai \n",
    "3. Transport - OLA \n",
    "4. Manufacturing - Tesla \n",
    "5. Consumer  Internet - Twitter"
   ]
  },
  {
   "cell_type": "code",
   "execution_count": null,
   "id": "8289805b",
   "metadata": {},
   "outputs": [],
   "source": [
    "# video 9\n",
    "# machine learning  development life cycle\n",
    "1.frame the data - ek baar sb soch lena ki kese banega , end product ky hoga, costing , time etc\n",
    "2. Gathering Data -\n",
    "3. data preposseeing - cleaning , remove (duplicates, missing value, outliers), scaling \n",
    "4.exploratory data analysis (EDA)- graph wagera , analysis, vislaization , outlier detection , imbalnce\n",
    "5. feature Engineering and selection - bahut features hote h , khuch ko hatana, khuch ko merge krna \n",
    "6. model training , evaluation and selection \n",
    "7. Model Deployment: ek s/w ya web banan jisme use kr sake\n",
    "8. Testing \n",
    "9. optimize- backup lete hai , planning krte h agr ab jab isko launch kr rhe h toh baad m kya dikkt aasakti h usse bachne k liye\n"
   ]
  },
  {
   "cell_type": "code",
   "execution_count": null,
   "id": "aa458923",
   "metadata": {},
   "outputs": [],
   "source": [
    "#tensor\n",
    "# tensor is very important \n",
    "#it is nothing but a  CONTAINER , a containers for number\n",
    "# like 0 dimension it is scaler, a list of number is vector, 2d numberd is matrix etc\n",
    "\n",
    "# 0D Tensor / scaler\n",
    "# import numpy as np\n",
    "# a = np.array(4) # this is 0D\n",
    "# a.ndim # this is used to find out the number of dimensions\n",
    "\n",
    "\n",
    "#1D  Tensor/ vector\n",
    "#Axis is = to 2D is have 2 axis\n",
    "#number of rank = axis\n",
    "# arr=np.array([1,2,3]) #------> 1 D array\n",
    "# # 1D tensor but have 3-dimensions bcz of (1,2,3), agr (1,2) hote toh 2D hota , but tensor 1D hi hai, yeh jo (1,2,3 )hai wo vector hai but dimension 3D hai\n",
    "# arr.ndim\n",
    "# scaler lead to vector / scaler --> vector \n",
    "\n",
    "\n",
    "# #2D Tensor  / Metrices \n",
    "# mat=np.array([[1,2,3],[4,5,6],[7,8,9]])\n",
    "# mat.ndim\n",
    "\n",
    "\n",
    "\n",
    "# more D Tensor /\n",
    "\n",
    "# ml me 5D tk hi hote h generally\n",
    "\n",
    "\n",
    "# rank, axes , shape\n",
    "# rank = no of axes , = no of dimensions\n",
    "\n",
    "\n",
    "# example of 2D tensor\n",
    "#jese kisi student ka record beena h use non vector  \n",
    "\n",
    "\n",
    "#example of 3\n",
    "d ==    "
   ]
  },
  {
   "cell_type": "code",
   "execution_count": null,
   "id": "d993d941",
   "metadata": {},
   "outputs": [],
   "source": []
  }
 ],
 "metadata": {
  "kernelspec": {
   "display_name": "Python 3",
   "language": "python",
   "name": "python3"
  },
  "language_info": {
   "codemirror_mode": {
    "name": "ipython",
    "version": 3
   },
   "file_extension": ".py",
   "mimetype": "text/x-python",
   "name": "python",
   "nbconvert_exporter": "python",
   "pygments_lexer": "ipython3",
   "version": "3.11.9"
  }
 },
 "nbformat": 4,
 "nbformat_minor": 5
}
