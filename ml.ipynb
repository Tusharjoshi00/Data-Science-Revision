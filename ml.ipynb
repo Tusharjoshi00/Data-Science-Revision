{
 "cells": [
  {
   "cell_type": "code",
   "execution_count": null,
   "id": "3617909c",
   "metadata": {},
   "outputs": [],
   "source": [
    "#machine learning"
   ]
  },
  {
   "cell_type": "code",
   "execution_count": null,
   "id": "86799039",
   "metadata": {},
   "outputs": [],
   "source": [
    "# Types of machine learning\n",
    "1. super vised ->  1. classification\n",
    "                    2. rergression\n",
    "\n",
    "\n",
    "2. unserpervised ---> 1. clustering\n",
    "                      2. dimensanality reduction \n",
    "                      3. anamoly detection \n",
    "                       4.association \n",
    "\n",
    "3. semi-supervised "
   ]
  }
 ],
 "metadata": {
  "language_info": {
   "name": "python"
  }
 },
 "nbformat": 4,
 "nbformat_minor": 5
}
