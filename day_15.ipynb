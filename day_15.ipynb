{
 "cells": [
  {
   "cell_type": "code",
   "execution_count": null,
   "id": "ccfa08eb",
   "metadata": {},
   "outputs": [],
   "source": [
    "# gathering data\n",
    "\n",
    "# jayda tar data kaggle p csv p  milega, that result in help us in saving time \n",
    "\n",
    "#but kabhi kabhi kaggle p json p bhi milega\n",
    "#JSON- java script on notation ---do prog lang ko apn m baat krni h toh json use\n",
    "#sql m bhi hota hai\n",
    "\n",
    "\n",
    "#fetching / api\n",
    "\n",
    "\n",
    "# webscrapping"
   ]
  },
  {
   "cell_type": "code",
   "execution_count": 1,
   "id": "b9d1178e",
   "metadata": {},
   "outputs": [],
   "source": [
    "import pandas as pd"
   ]
  },
  {
   "cell_type": "code",
   "execution_count": null,
   "id": "5c22f006",
   "metadata": {},
   "outputs": [],
   "source": []
  }
 ],
 "metadata": {
  "kernelspec": {
   "display_name": "Python 3",
   "language": "python",
   "name": "python3"
  },
  "language_info": {
   "codemirror_mode": {
    "name": "ipython",
    "version": 3
   },
   "file_extension": ".py",
   "mimetype": "text/x-python",
   "name": "python",
   "nbconvert_exporter": "python",
   "pygments_lexer": "ipython3",
   "version": "3.11.9"
  }
 },
 "nbformat": 4,
 "nbformat_minor": 5
}
